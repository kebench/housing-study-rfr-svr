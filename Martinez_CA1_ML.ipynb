{
 "cells": [
  {
   "cell_type": "code",
   "execution_count": 1,
   "id": "b37035a2",
   "metadata": {},
   "outputs": [],
   "source": [
    "import pandas as pd\n",
    "from sklearn.ensemble import RandomForestRegressor\n",
    "from sklearn.svm import SVR\n",
    "from sklearn.model_selection import train_test_split, cross_val_score\n",
    "import matplotlib.pyplot as plt\n",
    "import seaborn as sns\n",
    "import functions.utils \n",
    "import warnings\n",
    "from sklearn.model_selection import GridSearchCV\n",
    "import time\n",
    "from sklearn.pipeline import Pipeline\n",
    "from sklearn.feature_selection import SelectKBest, f_regression\n",
    "# Suppress the warning\n",
    "warnings.filterwarnings('ignore')"
   ]
  },
  {
   "cell_type": "markdown",
   "id": "f6f83cdc",
   "metadata": {},
   "source": [
    "## Data Profiling\n",
    "This gave the researcher an overview of the dataset and helped with deciding if the dataset needs to be scaled."
   ]
  },
  {
   "cell_type": "code",
   "execution_count": 2,
   "id": "a5619323",
   "metadata": {
    "scrolled": true
   },
   "outputs": [
    {
     "data": {
      "text/html": [
       "<div>\n",
       "<style scoped>\n",
       "    .dataframe tbody tr th:only-of-type {\n",
       "        vertical-align: middle;\n",
       "    }\n",
       "\n",
       "    .dataframe tbody tr th {\n",
       "        vertical-align: top;\n",
       "    }\n",
       "\n",
       "    .dataframe thead th {\n",
       "        text-align: right;\n",
       "    }\n",
       "</style>\n",
       "<table border=\"1\" class=\"dataframe\">\n",
       "  <thead>\n",
       "    <tr style=\"text-align: right;\">\n",
       "      <th></th>\n",
       "      <th>Year</th>\n",
       "      <th>Average New House Prices in Euro</th>\n",
       "      <th>Average Second Hand House Prices in Euro</th>\n",
       "      <th>GDP Rate</th>\n",
       "      <th>Housing Construction Cost Index</th>\n",
       "      <th>Number of House Loans Approved - New Houses</th>\n",
       "      <th>Number of House Loans Approved - Second hand Houses</th>\n",
       "      <th>Value of House Loans Approved New houses</th>\n",
       "      <th>Value of House Loans Approved Second-hand houses</th>\n",
       "      <th>Number of House Loans Paid - New Houses</th>\n",
       "      <th>Number of House Loans Paid - Second hand Houses</th>\n",
       "      <th>Value of House Loans Paid New houses</th>\n",
       "      <th>Value of House Loans Paid Second-hand houses</th>\n",
       "      <th>Total Number of House Loans Approved</th>\n",
       "      <th>Total Number of House Loans Paid</th>\n",
       "      <th>Inflation Rate</th>\n",
       "    </tr>\n",
       "  </thead>\n",
       "  <tbody>\n",
       "    <tr>\n",
       "      <th>0</th>\n",
       "      <td>1975</td>\n",
       "      <td>13254.0</td>\n",
       "      <td>12478.0</td>\n",
       "      <td>5.656646</td>\n",
       "      <td>20.0</td>\n",
       "      <td>15457.0</td>\n",
       "      <td>10412.0</td>\n",
       "      <td>115.2</td>\n",
       "      <td>85.5</td>\n",
       "      <td>13932.0</td>\n",
       "      <td>7309.0</td>\n",
       "      <td>92.0</td>\n",
       "      <td>56.0</td>\n",
       "      <td>25869.0</td>\n",
       "      <td>21241.0</td>\n",
       "      <td>20.875850</td>\n",
       "    </tr>\n",
       "    <tr>\n",
       "      <th>1</th>\n",
       "      <td>1976</td>\n",
       "      <td>15564.0</td>\n",
       "      <td>15303.0</td>\n",
       "      <td>1.394808</td>\n",
       "      <td>22.9</td>\n",
       "      <td>13712.0</td>\n",
       "      <td>11528.0</td>\n",
       "      <td>129.9</td>\n",
       "      <td>112.8</td>\n",
       "      <td>13228.0</td>\n",
       "      <td>8823.0</td>\n",
       "      <td>103.0</td>\n",
       "      <td>82.0</td>\n",
       "      <td>25240.0</td>\n",
       "      <td>22051.0</td>\n",
       "      <td>17.985696</td>\n",
       "    </tr>\n",
       "    <tr>\n",
       "      <th>2</th>\n",
       "      <td>1977</td>\n",
       "      <td>18754.0</td>\n",
       "      <td>17925.0</td>\n",
       "      <td>8.211302</td>\n",
       "      <td>26.9</td>\n",
       "      <td>12508.0</td>\n",
       "      <td>12032.0</td>\n",
       "      <td>137.1</td>\n",
       "      <td>140.1</td>\n",
       "      <td>12207.0</td>\n",
       "      <td>9832.0</td>\n",
       "      <td>110.0</td>\n",
       "      <td>108.0</td>\n",
       "      <td>24540.0</td>\n",
       "      <td>22039.0</td>\n",
       "      <td>13.472225</td>\n",
       "    </tr>\n",
       "    <tr>\n",
       "      <th>3</th>\n",
       "      <td>1978</td>\n",
       "      <td>24082.0</td>\n",
       "      <td>21895.0</td>\n",
       "      <td>7.186728</td>\n",
       "      <td>29.6</td>\n",
       "      <td>14215.0</td>\n",
       "      <td>12562.0</td>\n",
       "      <td>187.5</td>\n",
       "      <td>170.8</td>\n",
       "      <td>11759.0</td>\n",
       "      <td>10889.0</td>\n",
       "      <td>141.0</td>\n",
       "      <td>143.0</td>\n",
       "      <td>26777.0</td>\n",
       "      <td>22648.0</td>\n",
       "      <td>7.711141</td>\n",
       "    </tr>\n",
       "    <tr>\n",
       "      <th>4</th>\n",
       "      <td>1979</td>\n",
       "      <td>29387.0</td>\n",
       "      <td>27598.0</td>\n",
       "      <td>3.073037</td>\n",
       "      <td>34.2</td>\n",
       "      <td>15833.0</td>\n",
       "      <td>14218.0</td>\n",
       "      <td>244.0</td>\n",
       "      <td>230.3</td>\n",
       "      <td>12702.0</td>\n",
       "      <td>12040.0</td>\n",
       "      <td>182.0</td>\n",
       "      <td>189.0</td>\n",
       "      <td>30051.0</td>\n",
       "      <td>24742.0</td>\n",
       "      <td>13.295454</td>\n",
       "    </tr>\n",
       "  </tbody>\n",
       "</table>\n",
       "</div>"
      ],
      "text/plain": [
       "   Year  Average New House Prices in Euro  \\\n",
       "0  1975                           13254.0   \n",
       "1  1976                           15564.0   \n",
       "2  1977                           18754.0   \n",
       "3  1978                           24082.0   \n",
       "4  1979                           29387.0   \n",
       "\n",
       "   Average Second Hand House Prices in Euro  GDP Rate  \\\n",
       "0                                   12478.0  5.656646   \n",
       "1                                   15303.0  1.394808   \n",
       "2                                   17925.0  8.211302   \n",
       "3                                   21895.0  7.186728   \n",
       "4                                   27598.0  3.073037   \n",
       "\n",
       "   Housing Construction Cost Index  \\\n",
       "0                             20.0   \n",
       "1                             22.9   \n",
       "2                             26.9   \n",
       "3                             29.6   \n",
       "4                             34.2   \n",
       "\n",
       "   Number of House Loans Approved - New Houses  \\\n",
       "0                                      15457.0   \n",
       "1                                      13712.0   \n",
       "2                                      12508.0   \n",
       "3                                      14215.0   \n",
       "4                                      15833.0   \n",
       "\n",
       "   Number of House Loans Approved - Second hand Houses  \\\n",
       "0                                            10412.0     \n",
       "1                                            11528.0     \n",
       "2                                            12032.0     \n",
       "3                                            12562.0     \n",
       "4                                            14218.0     \n",
       "\n",
       "   Value of House Loans Approved New houses  \\\n",
       "0                                     115.2   \n",
       "1                                     129.9   \n",
       "2                                     137.1   \n",
       "3                                     187.5   \n",
       "4                                     244.0   \n",
       "\n",
       "   Value of House Loans Approved Second-hand houses  \\\n",
       "0                                              85.5   \n",
       "1                                             112.8   \n",
       "2                                             140.1   \n",
       "3                                             170.8   \n",
       "4                                             230.3   \n",
       "\n",
       "   Number of House Loans Paid - New Houses  \\\n",
       "0                                  13932.0   \n",
       "1                                  13228.0   \n",
       "2                                  12207.0   \n",
       "3                                  11759.0   \n",
       "4                                  12702.0   \n",
       "\n",
       "   Number of House Loans Paid - Second hand Houses  \\\n",
       "0                                           7309.0   \n",
       "1                                           8823.0   \n",
       "2                                           9832.0   \n",
       "3                                          10889.0   \n",
       "4                                          12040.0   \n",
       "\n",
       "   Value of House Loans Paid New houses  \\\n",
       "0                                  92.0   \n",
       "1                                 103.0   \n",
       "2                                 110.0   \n",
       "3                                 141.0   \n",
       "4                                 182.0   \n",
       "\n",
       "   Value of House Loans Paid Second-hand houses  \\\n",
       "0                                          56.0   \n",
       "1                                          82.0   \n",
       "2                                         108.0   \n",
       "3                                         143.0   \n",
       "4                                         189.0   \n",
       "\n",
       "   Total Number of House Loans Approved  Total Number of House Loans Paid  \\\n",
       "0                               25869.0                           21241.0   \n",
       "1                               25240.0                           22051.0   \n",
       "2                               24540.0                           22039.0   \n",
       "3                               26777.0                           22648.0   \n",
       "4                               30051.0                           24742.0   \n",
       "\n",
       "   Inflation Rate  \n",
       "0       20.875850  \n",
       "1       17.985696  \n",
       "2       13.472225  \n",
       "3        7.711141  \n",
       "4       13.295454  "
      ]
     },
     "execution_count": 2,
     "metadata": {},
     "output_type": "execute_result"
    }
   ],
   "source": [
    "housing_df = pd.read_csv(\"housing.csv\")\n",
    "housing_df.head()"
   ]
  },
  {
   "cell_type": "code",
   "execution_count": 3,
   "id": "5695a139",
   "metadata": {},
   "outputs": [
    {
     "data": {
      "text/html": [
       "<div>\n",
       "<style scoped>\n",
       "    .dataframe tbody tr th:only-of-type {\n",
       "        vertical-align: middle;\n",
       "    }\n",
       "\n",
       "    .dataframe tbody tr th {\n",
       "        vertical-align: top;\n",
       "    }\n",
       "\n",
       "    .dataframe thead th {\n",
       "        text-align: right;\n",
       "    }\n",
       "</style>\n",
       "<table border=\"1\" class=\"dataframe\">\n",
       "  <thead>\n",
       "    <tr style=\"text-align: right;\">\n",
       "      <th></th>\n",
       "      <th>Year</th>\n",
       "      <th>Average New House Prices in Euro</th>\n",
       "      <th>Average Second Hand House Prices in Euro</th>\n",
       "      <th>GDP Rate</th>\n",
       "      <th>Housing Construction Cost Index</th>\n",
       "      <th>Number of House Loans Approved - New Houses</th>\n",
       "      <th>Number of House Loans Approved - Second hand Houses</th>\n",
       "      <th>Value of House Loans Approved New houses</th>\n",
       "      <th>Value of House Loans Approved Second-hand houses</th>\n",
       "      <th>Number of House Loans Paid - New Houses</th>\n",
       "      <th>Number of House Loans Paid - Second hand Houses</th>\n",
       "      <th>Value of House Loans Paid New houses</th>\n",
       "      <th>Value of House Loans Paid Second-hand houses</th>\n",
       "      <th>Total Number of House Loans Approved</th>\n",
       "      <th>Total Number of House Loans Paid</th>\n",
       "      <th>Inflation Rate</th>\n",
       "    </tr>\n",
       "  </thead>\n",
       "  <tbody>\n",
       "    <tr>\n",
       "      <th>count</th>\n",
       "      <td>42.000000</td>\n",
       "      <td>42.000000</td>\n",
       "      <td>42.000000</td>\n",
       "      <td>42.000000</td>\n",
       "      <td>42.000000</td>\n",
       "      <td>42.000000</td>\n",
       "      <td>42.000000</td>\n",
       "      <td>42.000000</td>\n",
       "      <td>42.000000</td>\n",
       "      <td>42.000000</td>\n",
       "      <td>42.000000</td>\n",
       "      <td>42.000000</td>\n",
       "      <td>42.000000</td>\n",
       "      <td>42.000000</td>\n",
       "      <td>42.000000</td>\n",
       "      <td>42.000000</td>\n",
       "    </tr>\n",
       "    <tr>\n",
       "      <th>mean</th>\n",
       "      <td>1995.500000</td>\n",
       "      <td>135081.952381</td>\n",
       "      <td>146550.166667</td>\n",
       "      <td>4.802952</td>\n",
       "      <td>124.826190</td>\n",
       "      <td>19557.690476</td>\n",
       "      <td>28376.666667</td>\n",
       "      <td>2426.995238</td>\n",
       "      <td>3605.850000</td>\n",
       "      <td>18425.142857</td>\n",
       "      <td>24495.976190</td>\n",
       "      <td>2035.892857</td>\n",
       "      <td>2905.373810</td>\n",
       "      <td>47934.357143</td>\n",
       "      <td>42921.119048</td>\n",
       "      <td>5.364244</td>\n",
       "    </tr>\n",
       "    <tr>\n",
       "      <th>std</th>\n",
       "      <td>12.267844</td>\n",
       "      <td>102007.924470</td>\n",
       "      <td>117894.389610</td>\n",
       "      <td>4.763867</td>\n",
       "      <td>63.790117</td>\n",
       "      <td>14062.000963</td>\n",
       "      <td>15088.494917</td>\n",
       "      <td>3571.717317</td>\n",
       "      <td>4348.235484</td>\n",
       "      <td>13586.064021</td>\n",
       "      <td>13867.677428</td>\n",
       "      <td>3011.865923</td>\n",
       "      <td>3556.367656</td>\n",
       "      <td>28205.981314</td>\n",
       "      <td>26669.685138</td>\n",
       "      <td>6.069742</td>\n",
       "    </tr>\n",
       "    <tr>\n",
       "      <th>min</th>\n",
       "      <td>1975.000000</td>\n",
       "      <td>13254.000000</td>\n",
       "      <td>12478.000000</td>\n",
       "      <td>-5.095783</td>\n",
       "      <td>20.000000</td>\n",
       "      <td>2960.000000</td>\n",
       "      <td>9874.000000</td>\n",
       "      <td>115.200000</td>\n",
       "      <td>85.500000</td>\n",
       "      <td>2522.000000</td>\n",
       "      <td>7309.000000</td>\n",
       "      <td>92.000000</td>\n",
       "      <td>56.000000</td>\n",
       "      <td>12834.000000</td>\n",
       "      <td>11237.000000</td>\n",
       "      <td>-4.478103</td>\n",
       "    </tr>\n",
       "    <tr>\n",
       "      <th>25%</th>\n",
       "      <td>1985.250000</td>\n",
       "      <td>46944.250000</td>\n",
       "      <td>45788.500000</td>\n",
       "      <td>2.075858</td>\n",
       "      <td>77.500000</td>\n",
       "      <td>11595.750000</td>\n",
       "      <td>15019.750000</td>\n",
       "      <td>334.625000</td>\n",
       "      <td>541.000000</td>\n",
       "      <td>10527.750000</td>\n",
       "      <td>12539.750000</td>\n",
       "      <td>305.000000</td>\n",
       "      <td>458.750000</td>\n",
       "      <td>28759.000000</td>\n",
       "      <td>24270.250000</td>\n",
       "      <td>1.848942</td>\n",
       "    </tr>\n",
       "    <tr>\n",
       "      <th>50%</th>\n",
       "      <td>1995.500000</td>\n",
       "      <td>82598.000000</td>\n",
       "      <td>79971.000000</td>\n",
       "      <td>4.825472</td>\n",
       "      <td>115.500000</td>\n",
       "      <td>14393.500000</td>\n",
       "      <td>27493.500000</td>\n",
       "      <td>737.850000</td>\n",
       "      <td>1685.150000</td>\n",
       "      <td>12899.000000</td>\n",
       "      <td>19811.000000</td>\n",
       "      <td>612.050000</td>\n",
       "      <td>1416.350000</td>\n",
       "      <td>34924.500000</td>\n",
       "      <td>29715.000000</td>\n",
       "      <td>3.264069</td>\n",
       "    </tr>\n",
       "    <tr>\n",
       "      <th>75%</th>\n",
       "      <td>2005.750000</td>\n",
       "      <td>228255.000000</td>\n",
       "      <td>261322.250000</td>\n",
       "      <td>7.087081</td>\n",
       "      <td>192.375000</td>\n",
       "      <td>28564.500000</td>\n",
       "      <td>34301.250000</td>\n",
       "      <td>2654.525000</td>\n",
       "      <td>5217.200000</td>\n",
       "      <td>26923.250000</td>\n",
       "      <td>30349.000000</td>\n",
       "      <td>2173.325000</td>\n",
       "      <td>3713.000000</td>\n",
       "      <td>63740.500000</td>\n",
       "      <td>57428.000000</td>\n",
       "      <td>5.541912</td>\n",
       "    </tr>\n",
       "    <tr>\n",
       "      <th>max</th>\n",
       "      <td>2016.000000</td>\n",
       "      <td>322634.000000</td>\n",
       "      <td>377850.000000</td>\n",
       "      <td>24.370445</td>\n",
       "      <td>209.400000</td>\n",
       "      <td>58104.000000</td>\n",
       "      <td>61933.000000</td>\n",
       "      <td>13994.700000</td>\n",
       "      <td>17387.500000</td>\n",
       "      <td>55737.000000</td>\n",
       "      <td>55516.000000</td>\n",
       "      <td>11649.500000</td>\n",
       "      <td>14493.800000</td>\n",
       "      <td>120037.000000</td>\n",
       "      <td>111253.000000</td>\n",
       "      <td>20.875850</td>\n",
       "    </tr>\n",
       "  </tbody>\n",
       "</table>\n",
       "</div>"
      ],
      "text/plain": [
       "              Year  Average New House Prices in Euro  \\\n",
       "count    42.000000                         42.000000   \n",
       "mean   1995.500000                     135081.952381   \n",
       "std      12.267844                     102007.924470   \n",
       "min    1975.000000                      13254.000000   \n",
       "25%    1985.250000                      46944.250000   \n",
       "50%    1995.500000                      82598.000000   \n",
       "75%    2005.750000                     228255.000000   \n",
       "max    2016.000000                     322634.000000   \n",
       "\n",
       "       Average Second Hand House Prices in Euro   GDP Rate  \\\n",
       "count                                 42.000000  42.000000   \n",
       "mean                              146550.166667   4.802952   \n",
       "std                               117894.389610   4.763867   \n",
       "min                                12478.000000  -5.095783   \n",
       "25%                                45788.500000   2.075858   \n",
       "50%                                79971.000000   4.825472   \n",
       "75%                               261322.250000   7.087081   \n",
       "max                               377850.000000  24.370445   \n",
       "\n",
       "       Housing Construction Cost Index  \\\n",
       "count                        42.000000   \n",
       "mean                        124.826190   \n",
       "std                          63.790117   \n",
       "min                          20.000000   \n",
       "25%                          77.500000   \n",
       "50%                         115.500000   \n",
       "75%                         192.375000   \n",
       "max                         209.400000   \n",
       "\n",
       "       Number of House Loans Approved - New Houses  \\\n",
       "count                                    42.000000   \n",
       "mean                                  19557.690476   \n",
       "std                                   14062.000963   \n",
       "min                                    2960.000000   \n",
       "25%                                   11595.750000   \n",
       "50%                                   14393.500000   \n",
       "75%                                   28564.500000   \n",
       "max                                   58104.000000   \n",
       "\n",
       "       Number of House Loans Approved - Second hand Houses  \\\n",
       "count                                          42.000000     \n",
       "mean                                        28376.666667     \n",
       "std                                         15088.494917     \n",
       "min                                          9874.000000     \n",
       "25%                                         15019.750000     \n",
       "50%                                         27493.500000     \n",
       "75%                                         34301.250000     \n",
       "max                                         61933.000000     \n",
       "\n",
       "       Value of House Loans Approved New houses  \\\n",
       "count                                 42.000000   \n",
       "mean                                2426.995238   \n",
       "std                                 3571.717317   \n",
       "min                                  115.200000   \n",
       "25%                                  334.625000   \n",
       "50%                                  737.850000   \n",
       "75%                                 2654.525000   \n",
       "max                                13994.700000   \n",
       "\n",
       "       Value of House Loans Approved Second-hand houses  \\\n",
       "count                                         42.000000   \n",
       "mean                                        3605.850000   \n",
       "std                                         4348.235484   \n",
       "min                                           85.500000   \n",
       "25%                                          541.000000   \n",
       "50%                                         1685.150000   \n",
       "75%                                         5217.200000   \n",
       "max                                        17387.500000   \n",
       "\n",
       "       Number of House Loans Paid - New Houses  \\\n",
       "count                                42.000000   \n",
       "mean                              18425.142857   \n",
       "std                               13586.064021   \n",
       "min                                2522.000000   \n",
       "25%                               10527.750000   \n",
       "50%                               12899.000000   \n",
       "75%                               26923.250000   \n",
       "max                               55737.000000   \n",
       "\n",
       "       Number of House Loans Paid - Second hand Houses  \\\n",
       "count                                        42.000000   \n",
       "mean                                      24495.976190   \n",
       "std                                       13867.677428   \n",
       "min                                        7309.000000   \n",
       "25%                                       12539.750000   \n",
       "50%                                       19811.000000   \n",
       "75%                                       30349.000000   \n",
       "max                                       55516.000000   \n",
       "\n",
       "       Value of House Loans Paid New houses  \\\n",
       "count                             42.000000   \n",
       "mean                            2035.892857   \n",
       "std                             3011.865923   \n",
       "min                               92.000000   \n",
       "25%                              305.000000   \n",
       "50%                              612.050000   \n",
       "75%                             2173.325000   \n",
       "max                            11649.500000   \n",
       "\n",
       "       Value of House Loans Paid Second-hand houses  \\\n",
       "count                                     42.000000   \n",
       "mean                                    2905.373810   \n",
       "std                                     3556.367656   \n",
       "min                                       56.000000   \n",
       "25%                                      458.750000   \n",
       "50%                                     1416.350000   \n",
       "75%                                     3713.000000   \n",
       "max                                    14493.800000   \n",
       "\n",
       "       Total Number of House Loans Approved  Total Number of House Loans Paid  \\\n",
       "count                             42.000000                         42.000000   \n",
       "mean                           47934.357143                      42921.119048   \n",
       "std                            28205.981314                      26669.685138   \n",
       "min                            12834.000000                      11237.000000   \n",
       "25%                            28759.000000                      24270.250000   \n",
       "50%                            34924.500000                      29715.000000   \n",
       "75%                            63740.500000                      57428.000000   \n",
       "max                           120037.000000                     111253.000000   \n",
       "\n",
       "       Inflation Rate  \n",
       "count       42.000000  \n",
       "mean         5.364244  \n",
       "std          6.069742  \n",
       "min         -4.478103  \n",
       "25%          1.848942  \n",
       "50%          3.264069  \n",
       "75%          5.541912  \n",
       "max         20.875850  "
      ]
     },
     "execution_count": 3,
     "metadata": {},
     "output_type": "execute_result"
    }
   ],
   "source": [
    "housing_df.describe()"
   ]
  },
  {
   "cell_type": "code",
   "execution_count": 4,
   "id": "2e039549",
   "metadata": {},
   "outputs": [],
   "source": [
    "housing_df[\"Year\"] = pd.to_datetime(housing_df[\"Year\"], format=\"%Y\")"
   ]
  },
  {
   "cell_type": "code",
   "execution_count": 5,
   "id": "1809dce6",
   "metadata": {},
   "outputs": [],
   "source": [
    "housing_df.set_index(\"Year\", inplace=True)"
   ]
  },
  {
   "cell_type": "markdown",
   "id": "7d2a7787",
   "metadata": {},
   "source": [
    "## Data Split"
   ]
  },
  {
   "cell_type": "code",
   "execution_count": 6,
   "id": "76e35bbd",
   "metadata": {},
   "outputs": [],
   "source": [
    "X = housing_df.drop(\"Total Number of House Loans Paid\", axis=1)\n",
    "y = housing_df[\"Total Number of House Loans Paid\"]"
   ]
  },
  {
   "cell_type": "code",
   "execution_count": 7,
   "id": "a64d19fa",
   "metadata": {},
   "outputs": [],
   "source": [
    "X_train, X_test, y_train, y_test = train_test_split(X, y, test_size=0.2, random_state=42)"
   ]
  },
  {
   "cell_type": "markdown",
   "id": "1b8f014c",
   "metadata": {},
   "source": [
    "## Data Scaling\n",
    "The reseacher used the Robust Scaler since it was concluded that the distribution of the data doesn't follow normal distribution. The appearance of outliers also was a key factor in deciding to use Robust Scaler. Robust scaler helped reduce the impact of the outliers on the model's performance especially with SVR."
   ]
  },
  {
   "cell_type": "code",
   "execution_count": 8,
   "id": "6418adf9",
   "metadata": {},
   "outputs": [],
   "source": [
    "# Retrieved from https://scikit-learn.org/stable/modules/generated/sklearn.preprocessing.RobustScaler.html\n",
    "from sklearn.preprocessing import RobustScaler\n",
    "sc =  RobustScaler()\n",
    "X_train = sc.fit_transform(X_train)\n",
    "X_test = sc.transform(X_test)"
   ]
  },
  {
   "cell_type": "markdown",
   "id": "6b33ebbb",
   "metadata": {},
   "source": [
    "# Random Forest Regression\n",
    "The researcher chose Random Forest Regression since the dataset contains linear and non-linear relationships the data. RFR is versatile enough to capture the patters in the data."
   ]
  },
  {
   "cell_type": "code",
   "execution_count": 9,
   "id": "e572b3ba",
   "metadata": {},
   "outputs": [
    {
     "name": "stdout",
     "output_type": "stream",
     "text": [
      "Metrics for the Training Data:\n",
      "Root Mean Squared Error: 2669.87200733384\n",
      "Mean Squared Error: 7128216.5355448285\n",
      "Mean Absolute Error: 1520.5575084985173\n",
      "R2 Score: 0.9874687142117039\n",
      "\n",
      "\n",
      "Metrics for the Validation/Test Data:\n",
      "Root Mean Squared Error: 6682.075546727586\n",
      "Mean Squared Error: 44650133.612174764\n",
      "Mean Absolute Error: 4356.461421364642\n",
      "R2 Score: 0.9523661685001601\n"
     ]
    }
   ],
   "source": [
    "rf_model = RandomForestRegressor(n_estimators=300, max_features=\"sqrt\", max_depth=5, random_state=42).fit(X_train, y_train)\n",
    "y_pred = rf_model.predict(X_test)\n",
    "y_train_pred = rf_model.predict(X_train)\n",
    "\n",
    "print(\"Metrics for the Training Data:\")\n",
    "functions.utils.displayRegressionMetrics(y_train, y_train_pred)\n",
    "print(\"\\n\")\n",
    "print(\"Metrics for the Validation/Test Data:\")\n",
    "functions.utils.displayRegressionMetrics(y_test, y_pred)"
   ]
  },
  {
   "cell_type": "markdown",
   "id": "199b705c",
   "metadata": {},
   "source": [
    "## Feature importance and Feature trimming\n",
    "After training the base RFR model, the researcher retrieved a list of the best predictors in the RFR model. They set a treshold of 7--halfway through the number of features."
   ]
  },
  {
   "cell_type": "code",
   "execution_count": 10,
   "id": "53c0fdee",
   "metadata": {
    "scrolled": true
   },
   "outputs": [
    {
     "data": {
      "image/png": "[encoded data removed]",
      "text/plain": [
       "<Figure size 1440x864 with 1 Axes>"
      ]
     },
     "metadata": {
      "needs_background": "light"
     },
     "output_type": "display_data"
    }
   ],
   "source": [
    "# Access the most important features\n",
    "feature_importances = rf_model.feature_importances_\n",
    "# Sort the features starting with the most important ones\n",
    "feature_indices = feature_importances.argsort()[::-1]\n",
    "feature_threshold = 7\n",
    "top_feature_indices = feature_indices[:feature_threshold]\n",
    "functions.utils.plotFeatureImportance(rf_model.feature_importances_, X)\n"
   ]
  },
  {
   "cell_type": "markdown",
   "id": "787f5604",
   "metadata": {},
   "source": [
    "Once the best predictors were determined, the researcher extracted the values of the best predictors from the training data and use it to train another RFR model using the best predictors."
   ]
  },
  {
   "cell_type": "code",
   "execution_count": 11,
   "id": "3c68adf2",
   "metadata": {},
   "outputs": [
    {
     "name": "stdout",
     "output_type": "stream",
     "text": [
      "Metrics for the Training Data:\n",
      "Root Mean Squared Error: 2356.9544921495494\n",
      "Mean Squared Error: 5555234.478063941\n",
      "Mean Absolute Error: 1277.7700165995625\n",
      "R2 Score: 0.9902339904352675\n",
      "\n",
      "\n",
      "Metrics for the Validation/Test Data:\n",
      "Root Mean Squared Error: 4642.356217761873\n",
      "Mean Squared Error: 21551471.252592325\n",
      "Mean Absolute Error: 3384.2390937190366\n",
      "R2 Score: 0.9770083745070876\n"
     ]
    }
   ],
   "source": [
    "X_train_top = X_train[:, top_feature_indices]\n",
    "X_test_top = X_test[:, top_feature_indices]\n",
    "rf_model_top = RandomForestRegressor(n_estimators=300, max_features=\"sqrt\", max_depth=5, random_state=42)\n",
    "rf_model_top.fit(X_train_top, y_train)\n",
    "y_pred = rf_model_top.predict(X_test_top)\n",
    "y_train_pred = rf_model_top.predict(X_train_top)\n",
    "\n",
    "print(\"Metrics for the Training Data:\")\n",
    "functions.utils.displayRegressionMetrics(y_train, y_train_pred)\n",
    "\n",
    "print(\"\\n\")\n",
    "print(\"Metrics for the Validation/Test Data:\")\n",
    "functions.utils.displayRegressionMetrics(y_test, y_pred)"
   ]
  },
  {
   "cell_type": "markdown",
   "id": "2c0d9615",
   "metadata": {},
   "source": [
    "## Hypertuning with no feature importance\n",
    "GridSearchCV was used for the hypertuning of all the models used in this notebook. It automates the process of hypertuning and incorporates cross validation as well.\n",
    "\n",
    "After performing GridSearchCV, a new model was trained using the best parameters returned by the hypertuning technique."
   ]
  },
  {
   "cell_type": "code",
   "execution_count": 12,
   "id": "a63fa2e1",
   "metadata": {},
   "outputs": [
    {
     "name": "stdout",
     "output_type": "stream",
     "text": [
      "Code Execution Time:  368.1723871231079\n"
     ]
    }
   ],
   "source": [
    "# Measuring the execution time is important since it gives the developer an idea\n",
    "# of how long the algorithm runs. In Javascript, there are several ways of measuring\n",
    "# the execution time. One of which is performance.now which is similar to what was\n",
    "# used in this block of code.\n",
    "start = time.time()\n",
    "# Retrieved from https://towardsdatascience.com/random-forest-regression-5f605132d19d\n",
    "grid = { \n",
    "    'n_estimators': [200,300,400,300,500,600,700],\n",
    "    'max_features': ['sqrt','log2'],\n",
    "    'max_depth' : list(range(3,10)),\n",
    "    'random_state' : [42, 35, 54, 60]\n",
    "}\n",
    "CV_rfr = GridSearchCV(estimator=RandomForestRegressor(), param_grid=grid, cv= 5)\n",
    "CV_rfr.fit(X_train, y_train)\n",
    "end = time.time()\n",
    "print(\"Code Execution Time: \", end - start)"
   ]
  },
  {
   "cell_type": "code",
   "execution_count": 13,
   "id": "47a91ca7",
   "metadata": {},
   "outputs": [
    {
     "data": {
      "text/plain": [
       "({'max_depth': 8,\n",
       "  'max_features': 'sqrt',\n",
       "  'n_estimators': 700,\n",
       "  'random_state': 60},\n",
       " 0.9304749099917965)"
      ]
     },
     "execution_count": 13,
     "metadata": {},
     "output_type": "execute_result"
    }
   ],
   "source": [
    "best_params = CV_rfr.best_params_\n",
    "best_model = CV_rfr.best_estimator_\n",
    "best_score = CV_rfr.best_score_\n",
    "\n",
    "best_model.fit(X_train, y_train)\n",
    "best_params, best_score"
   ]
  },
  {
   "cell_type": "code",
   "execution_count": 14,
   "id": "2d0409c8",
   "metadata": {
    "scrolled": false
   },
   "outputs": [
    {
     "name": "stdout",
     "output_type": "stream",
     "text": [
      "Metrics for the Training Data:\n",
      "Root Mean Squared Error: 2447.4944898722615\n",
      "Mean Squared Error: 5990229.277955081\n",
      "Mean Absolute Error: 1382.4836175359026\n",
      "R2 Score: 0.9894692768317066\n",
      "\n",
      "\n",
      "Metrics for the Validation/Test Data:\n",
      "Root Mean Squared Error: 6439.65713067733\n",
      "Mean Squared Error: 41469183.96068338\n",
      "Mean Absolute Error: 4051.5124532627847\n",
      "R2 Score: 0.9557596817430253\n"
     ]
    }
   ],
   "source": [
    "y_pred = best_model.predict(X_test)\n",
    "y_train_pred = best_model.predict(X_train)\n",
    "\n",
    "print(\"Metrics for the Training Data:\")\n",
    "functions.utils.displayRegressionMetrics(y_train, y_train_pred)\n",
    "print(\"\\n\")\n",
    "print(\"Metrics for the Validation/Test Data:\")\n",
    "functions.utils.displayRegressionMetrics(y_test, y_pred)"
   ]
  },
  {
   "cell_type": "markdown",
   "id": "a76c1dbc",
   "metadata": {},
   "source": [
    "The researcher retrieved the most important features to further enhance the performance of the model."
   ]
  },
  {
   "cell_type": "code",
   "execution_count": 15,
   "id": "528cf0b8",
   "metadata": {
    "scrolled": false
   },
   "outputs": [
    {
     "data": {
      "image/png": "[encoded data removed]",
      "text/plain": [
       "<Figure size 1440x864 with 1 Axes>"
      ]
     },
     "metadata": {
      "needs_background": "light"
     },
     "output_type": "display_data"
    }
   ],
   "source": [
    "# Access the most important features\n",
    "feature_importances = best_model.feature_importances_\n",
    "# Sort the features starting with the most important ones\n",
    "feature_indices = feature_importances.argsort()[::-1]\n",
    "top_feature_indices = feature_indices[:feature_threshold]\n",
    "functions.utils.plotFeatureImportance(best_model.feature_importances_, X)\n"
   ]
  },
  {
   "cell_type": "markdown",
   "id": "24ba1f1c",
   "metadata": {},
   "source": [
    "## Hypertuning with feature importance\n",
    "In this step, the researcher extracted the important features and use it in hypertuning to further boost the performance of the model."
   ]
  },
  {
   "cell_type": "code",
   "execution_count": 16,
   "id": "8de98548",
   "metadata": {},
   "outputs": [
    {
     "name": "stdout",
     "output_type": "stream",
     "text": [
      "Code Execution Time:  353.9411153793335\n"
     ]
    }
   ],
   "source": [
    "start = time.time()\n",
    "grid = { \n",
    "    'regressor__n_estimators': [200,300,400,300,500,600,700],\n",
    "    'regressor__max_features': ['sqrt','log2'],\n",
    "    'regressor__max_depth' : list(range(3,10)),\n",
    "    'regressor__random_state' : [42, 35, 54, 60]\n",
    "}\n",
    "## Use GridSearchCV with no feature importance\n",
    "pipeline = Pipeline([\n",
    "    ('feature_selection', SelectKBest(k=feature_threshold)),\n",
    "    ('regressor', RandomForestRegressor())\n",
    "])\n",
    "CV_rfr_top = GridSearchCV(pipeline, param_grid=grid, cv=5)\n",
    "CV_rfr_top.fit(X_train, y_train)\n",
    "end = time.time()\n",
    "print(\"Code Execution Time: \", end - start)"
   ]
  },
  {
   "cell_type": "markdown",
   "id": "58408f3a",
   "metadata": {},
   "source": [
    "A new model was created for hypertuned with feature importance."
   ]
  },
  {
   "cell_type": "code",
   "execution_count": 17,
   "id": "7b84d101",
   "metadata": {},
   "outputs": [
    {
     "data": {
      "text/plain": [
       "({'regressor__max_depth': 5,\n",
       "  'regressor__max_features': 'sqrt',\n",
       "  'regressor__n_estimators': 600,\n",
       "  'regressor__random_state': 60},\n",
       " 0.9179017621299961)"
      ]
     },
     "execution_count": 17,
     "metadata": {},
     "output_type": "execute_result"
    }
   ],
   "source": [
    "best_params_top = CV_rfr_top.best_params_\n",
    "best_model_top = CV_rfr_top.best_estimator_\n",
    "best_score_top = CV_rfr_top.best_score_\n",
    "\n",
    "best_model_top.fit(X_train, y_train)\n",
    "best_params_top, best_score_top"
   ]
  },
  {
   "cell_type": "code",
   "execution_count": 18,
   "id": "aa4ea76d",
   "metadata": {},
   "outputs": [
    {
     "name": "stdout",
     "output_type": "stream",
     "text": [
      "Metrics for the Training Data:\n",
      "Root Mean Squared Error: 2458.9654338017235\n",
      "Mean Squared Error: 6046511.004631698\n",
      "Mean Absolute Error: 1477.51254517452\n",
      "R2 Score: 0.9893703344948505\n",
      "\n",
      "\n",
      "Metrics for the Validation/Test Data:\n",
      "Root Mean Squared Error: 5917.756525661209\n",
      "Mean Squared Error: 35019842.297005825\n",
      "Mean Absolute Error: 3757.5685223249\n",
      "R2 Score: 0.9626399938325898\n"
     ]
    }
   ],
   "source": [
    "y_pred = best_model_top.predict(X_test)\n",
    "y_train_pred = best_model_top.predict(X_train)\n",
    "\n",
    "print(\"Metrics for the Training Data:\")\n",
    "functions.utils.displayRegressionMetrics(y_train, y_train_pred)\n",
    "print(\"\\n\")\n",
    "print(\"Metrics for the Validation/Test Data:\")\n",
    "functions.utils.displayRegressionMetrics(y_test, y_pred)"
   ]
  },
  {
   "cell_type": "markdown",
   "id": "87529c3a",
   "metadata": {},
   "source": [
    "## Perform Cross Validation on the models created\n",
    "\n",
    "The researcher cross validates the pretrained model to check for overfitting since the metrics used are not enough to conclude that the model performed well."
   ]
  },
  {
   "cell_type": "code",
   "execution_count": 19,
   "id": "b54af80e",
   "metadata": {},
   "outputs": [
    {
     "name": "stdout",
     "output_type": "stream",
     "text": [
      "Model:  Base RFR\n",
      "R2 Scores:  [-9.06946159  0.29664224  0.94090794  0.2335046   0.20581583  0.9210164\n",
      "  0.86688897  0.61696582 -1.71517263 -2.21884788]\n",
      "Mean R2 Score:  -0.8921740315562117\n",
      "Standard Deviation of R2 Scores:  2.919093953766133\n",
      "\n",
      "\n",
      "Model:  Hypertuned RFR\n",
      "R2 Scores:  [-5.89116844  0.31606638  0.99223391  0.31225461  0.34050458  0.85943544\n",
      "  0.8877005   0.58314216 -1.84327453 -2.78416421]\n",
      "Mean R2 Score:  -0.6227269589010118\n",
      "Standard Deviation of R2 Scores:  2.1246594294041583\n",
      "\n",
      "\n",
      "Model:  Base Top Features RFR\n",
      "R2 Scores:  [-9.06946159  0.29664224  0.94090794  0.2335046   0.20581583  0.9210164\n",
      "  0.86688897  0.61696582 -1.71517263 -2.21884788]\n",
      "Mean R2 Score:  -0.8921740315562117\n",
      "Standard Deviation of R2 Scores:  2.919093953766133\n",
      "\n",
      "\n",
      "Model:  Hypertuned Top Features RFR\n",
      "R2 Scores:  [-4.51737032  0.27690191  0.94038993  0.20922291  0.37789729  0.73364573\n",
      "  0.8360416   0.54618677 -2.11052812 -1.25998896]\n",
      "Mean R2 Score:  -0.3967601276487152\n",
      "Standard Deviation of R2 Scores:  1.6600439712901596\n",
      "\n",
      "\n"
     ]
    }
   ],
   "source": [
    "models = [\n",
    "    {\"model\": rf_model, \"name\": \"Base RFR\"}, \n",
    "    {\"model\": best_model, \"name\": \"Hypertuned RFR\"}, \n",
    "    {\"model\": rf_model_top, \"name\": \"Base Top Features RFR\"}, \n",
    "    {\"model\": best_model_top, \"name\": \"Hypertuned Top Features RFR\"}]\n",
    "\n",
    "# Loop through the models and perform cross-validation\n",
    "for model in models:\n",
    "    scores = cross_val_score(model[\"model\"], X, y, cv=10, scoring='r2')\n",
    "    print(\"Model: \", model[\"name\"])\n",
    "    print(\"R2 Scores: \", scores)\n",
    "    print(\"Mean R2 Score: \", scores.mean())\n",
    "    print(\"Standard Deviation of R2 Scores: \", scores.std())\n",
    "    print(\"\\n\")"
   ]
  },
  {
   "cell_type": "markdown",
   "id": "ebfd272c",
   "metadata": {},
   "source": [
    "With negative mean r2 scores in the cross validation, it was determined that the RFR models performed poorly despite having good individual MSE, RMSE, and MAE."
   ]
  },
  {
   "cell_type": "markdown",
   "id": "2ae18cfc",
   "metadata": {},
   "source": [
    "# Support Vector Regression\n",
    "Another popular machine learning model is the Support Vector Regression. This was chosen by the researcher since this model is robust to outliers and have the ability to handle non-linear data."
   ]
  },
  {
   "cell_type": "code",
   "execution_count": 20,
   "id": "55c896dd",
   "metadata": {},
   "outputs": [
    {
     "data": {
      "text/plain": [
       "SVR()"
      ]
     },
     "execution_count": 20,
     "metadata": {},
     "output_type": "execute_result"
    }
   ],
   "source": [
    "svr_model = SVR()\n",
    "svr_model.fit(X_train, y_train)"
   ]
  },
  {
   "cell_type": "code",
   "execution_count": 21,
   "id": "afb4f21d",
   "metadata": {},
   "outputs": [
    {
     "name": "stdout",
     "output_type": "stream",
     "text": [
      "Metrics for the Training Data:\n",
      "Root Mean Squared Error: 26388.66160222068\n",
      "Mean Squared Error: 696361461.1565161\n",
      "Mean Absolute Error: 17168.04562018693\n",
      "R2 Score: -0.22419183510967855\n",
      "\n",
      "\n",
      "Metrics for the Validation/Test Data:\n",
      "Root Mean Squared Error: 41434.627996432835\n",
      "Mean Squared Error: 1716828397.2027757\n",
      "Mean Absolute Error: 30405.695551131634\n",
      "R2 Score: -0.8315536364755343\n"
     ]
    }
   ],
   "source": [
    "y_pred = svr_model.predict(X_test)\n",
    "y_train_pred = svr_model.predict(X_train)\n",
    "\n",
    "print(\"Metrics for the Training Data:\")\n",
    "functions.utils.displayRegressionMetrics(y_train, y_train_pred)\n",
    "print(\"\\n\")\n",
    "print(\"Metrics for the Validation/Test Data:\")\n",
    "functions.utils.displayRegressionMetrics(y_test, y_pred)"
   ]
  },
  {
   "cell_type": "markdown",
   "id": "640a8e6d",
   "metadata": {},
   "source": [
    "The researcher found out that the Base SVR used the columns equally which resulted to a poor performance of the model. Further hypertuning is required.\n",
    "\n",
    "Since the features were all treated equally by the model, there was no retraining of the model with the best predictor features."
   ]
  },
  {
   "cell_type": "code",
   "execution_count": 22,
   "id": "094af1c1",
   "metadata": {
    "scrolled": true
   },
   "outputs": [
    {
     "data": {
      "image/png": "[encoded data removed]",
      "text/plain": [
       "<Figure size 1440x864 with 1 Axes>"
      ]
     },
     "metadata": {
      "needs_background": "light"
     },
     "output_type": "display_data"
    }
   ],
   "source": [
    "functions.utils.plotSVRFeatureImportance(svr_model.dual_coef_.ravel(), X)"
   ]
  },
  {
   "cell_type": "markdown",
   "id": "37a019ba",
   "metadata": {},
   "source": [
    "# Hyper Tuning\n",
    "To improve the performance of the model, the researcher implemented hypertuning and hypertuning with top features."
   ]
  },
  {
   "cell_type": "code",
   "execution_count": 23,
   "id": "d483b1ae",
   "metadata": {},
   "outputs": [
    {
     "name": "stdout",
     "output_type": "stream",
     "text": [
      "Code Execution Time:  0.3311653137207031\n"
     ]
    }
   ],
   "source": [
    "start = time.time()\n",
    "param_grid = {\n",
    "    'C': [0.1, 1, 10, 0.01, 0.001, 100],\n",
    "    'epsilon': [0.01, 0.1, 1, 0.001, 10, 100],\n",
    "    'kernel': ['linear', 'rbf', 'poly']\n",
    "}\n",
    "CV_svr = GridSearchCV(SVR(), param_grid, cv=5)\n",
    "CV_svr.fit(X_train, y_train)\n",
    "end = time.time()\n",
    "print(\"Code Execution Time: \", end - start)"
   ]
  },
  {
   "cell_type": "code",
   "execution_count": 24,
   "id": "29bdc447",
   "metadata": {},
   "outputs": [
    {
     "data": {
      "text/plain": [
       "({'C': 100, 'epsilon': 10, 'kernel': 'linear'}, 0.6598644937143158)"
      ]
     },
     "execution_count": 24,
     "metadata": {},
     "output_type": "execute_result"
    }
   ],
   "source": [
    "best_params_svr = CV_svr.best_params_\n",
    "best_model_svr = CV_svr.best_estimator_\n",
    "best_score_svr = CV_svr.best_score_\n",
    "best_params_svr, best_score_svr"
   ]
  },
  {
   "cell_type": "code",
   "execution_count": 25,
   "id": "11318111",
   "metadata": {
    "scrolled": true
   },
   "outputs": [
    {
     "name": "stdout",
     "output_type": "stream",
     "text": [
      "Metrics for the Training Data:\n",
      "Root Mean Squared Error: 10393.163450028407\n",
      "Mean Squared Error: 108017846.49900639\n",
      "Mean Absolute Error: 7941.803061749295\n",
      "R2 Score: 0.8101064273278432\n",
      "\n",
      "\n",
      "Metrics for the Validation/Test Data:\n",
      "Root Mean Squared Error: 15291.017489661217\n",
      "Mean Squared Error: 233815215.86912525\n",
      "Mean Absolute Error: 12773.63885885288\n",
      "R2 Score: 0.7505603299746515\n"
     ]
    }
   ],
   "source": [
    "y_pred = best_model_svr.predict(X_test)\n",
    "y_train_pred = best_model_svr.predict(X_train)\n",
    "\n",
    "print(\"Metrics for the Training Data:\")\n",
    "functions.utils.displayRegressionMetrics(y_train, y_train_pred)\n",
    "print(\"\\n\")\n",
    "print(\"Metrics for the Validation/Test Data:\")\n",
    "functions.utils.displayRegressionMetrics(y_test, y_pred)"
   ]
  },
  {
   "cell_type": "markdown",
   "id": "3eb71beb",
   "metadata": {},
   "source": [
    "Hypertuning produces the best predictors as seen the graph below."
   ]
  },
  {
   "cell_type": "code",
   "execution_count": 26,
   "id": "d70b21ae",
   "metadata": {
    "scrolled": true
   },
   "outputs": [
    {
     "data": {
      "image/png": "[encoded data removed]",
      "text/plain": [
       "<Figure size 1440x864 with 1 Axes>"
      ]
     },
     "metadata": {
      "needs_background": "light"
     },
     "output_type": "display_data"
    }
   ],
   "source": [
    "functions.utils.plotSVRFeatureImportance(best_model_svr.coef_.ravel(), X)"
   ]
  },
  {
   "cell_type": "markdown",
   "id": "fafb5a21",
   "metadata": {},
   "source": [
    "### Hypertuning with feature importance\n",
    "The goal of the stage was to check if feature importance contributes to the improvement of the hypertuned model."
   ]
  },
  {
   "cell_type": "code",
   "execution_count": 33,
   "id": "00725480",
   "metadata": {},
   "outputs": [
    {
     "name": "stdout",
     "output_type": "stream",
     "text": [
      "Code Execution Time:  2.968445301055908\n"
     ]
    }
   ],
   "source": [
    "start = time.time()\n",
    "pipeline = Pipeline([\n",
    "    ('feature_selection', SelectKBest(score_func=f_regression)),\n",
    "    ('svr_model', SVR())\n",
    "])\n",
    "param_grid = {\n",
    "    'feature_selection__k': [5, 8, 15],\n",
    "    'svr_model__kernel': ['linear', 'rbf', 'poly'],\n",
    "    'svr_model__C': [0.1, 1, 10, 0.01, 0.001, 100], \n",
    "    'svr_model__epsilon': [0.01, 0.1, 1, 0.001, 10, 100]\n",
    "}\n",
    "CV_svr_top = GridSearchCV(pipeline, param_grid=param_grid, cv=5)\n",
    "CV_svr_top.fit(X_train, y_train)\n",
    "end = time.time()\n",
    "print(\"Code Execution Time: \", end - start)"
   ]
  },
  {
   "cell_type": "code",
   "execution_count": 34,
   "id": "0d3a7bd4",
   "metadata": {},
   "outputs": [
    {
     "data": {
      "text/plain": [
       "({'feature_selection__k': 8,\n",
       "  'svr_model__C': 100,\n",
       "  'svr_model__epsilon': 10,\n",
       "  'svr_model__kernel': 'linear'},\n",
       " 0.628837317048881)"
      ]
     },
     "execution_count": 34,
     "metadata": {},
     "output_type": "execute_result"
    }
   ],
   "source": [
    "best_params_svr_top = CV_svr_top.best_params_\n",
    "best_model_svr_top = CV_svr_top.best_estimator_\n",
    "best_score_svr_top = CV_svr_top.best_score_\n",
    "best_params_svr_top, best_score_svr_top"
   ]
  },
  {
   "cell_type": "markdown",
   "id": "ceb29a4a",
   "metadata": {},
   "source": [
    "From the metrics, it can be stated that the hypertuned model with feature importance performed slightly worse than the hypertuned model without feature importance. However, it can't be concluded if the models are overfitting."
   ]
  },
  {
   "cell_type": "code",
   "execution_count": 35,
   "id": "e5ce4dd0",
   "metadata": {},
   "outputs": [
    {
     "name": "stdout",
     "output_type": "stream",
     "text": [
      "Metrics for the Training Data:\n",
      "Root Mean Squared Error: 11133.476072033656\n",
      "Mean Squared Error: 123954289.44654599\n",
      "Mean Absolute Error: 8434.356543497937\n",
      "R2 Score: 0.7820904264069015\n",
      "\n",
      "\n",
      "Metrics for the Validation/Test Data:\n",
      "Root Mean Squared Error: 16689.09970454792\n",
      "Mean Squared Error: 278526048.9483415\n",
      "Mean Absolute Error: 13703.443895981543\n",
      "R2 Score: 0.7028617428301747\n"
     ]
    }
   ],
   "source": [
    "y_pred = best_model_svr_top.predict(X_test)\n",
    "y_train_pred = best_model_svr_top.predict(X_train)\n",
    "\n",
    "print(\"Metrics for the Training Data:\")\n",
    "functions.utils.displayRegressionMetrics(y_train, y_train_pred)\n",
    "print(\"\\n\")\n",
    "print(\"Metrics for the Validation/Test Data:\")\n",
    "functions.utils.displayRegressionMetrics(y_test, y_pred)"
   ]
  },
  {
   "cell_type": "markdown",
   "id": "1101430f",
   "metadata": {},
   "source": [
    "## Cross Validation of SVR models created\n",
    "The researcher conducted cross validation, in addition to the individual metrices above, to validate if the model was overfitting."
   ]
  },
  {
   "cell_type": "code",
   "execution_count": 36,
   "id": "52875329",
   "metadata": {
    "scrolled": true
   },
   "outputs": [
    {
     "name": "stdout",
     "output_type": "stream",
     "text": [
      "Model:  Base SVR\n",
      "R2 Scores:  [-43.130066    -0.88786952  -6.2416288   -9.86399198 -14.30921512]\n",
      "Mean R2 Score:  -14.886554283971469\n",
      "Standard Deviation of R2 Scores:  14.791574078663807\n",
      "\n",
      "\n",
      "Model:  Hypertuned SVR\n",
      "R2 Scores:  [0.99997398 0.99999883 0.99999968 0.9999981  0.99998107]\n",
      "Mean R2 Score:  0.9999903316968096\n",
      "Standard Deviation of R2 Scores:  1.0706424684682019e-05\n",
      "\n",
      "\n",
      "Model:  Hypertuned Top Features SVR\n",
      "R2 Scores:  [0.99997226 0.99999578 0.99999986 0.99999886 0.99999876]\n",
      "Mean R2 Score:  0.9999931048232261\n",
      "Standard Deviation of R2 Scores:  1.0512867646978312e-05\n",
      "\n",
      "\n"
     ]
    }
   ],
   "source": [
    "models = [\n",
    "    {\"model\": svr_model, \"name\": \"Base SVR\"}, \n",
    "    {\"model\": best_model_svr, \"name\": \"Hypertuned SVR\"}, \n",
    "    {\"model\": best_model_svr_top, \"name\": \"Hypertuned Top Features SVR\"}]\n",
    "\n",
    "# Loop through the models and perform cross-validation\n",
    "for model in models:\n",
    "    scores = cross_val_score(model[\"model\"], X, y, cv=5, scoring='r2')\n",
    "    print(\"Model: \", model[\"name\"])\n",
    "    print(\"R2 Scores: \", scores)\n",
    "    print(\"Mean R2 Score: \", scores.mean())\n",
    "    print(\"Standard Deviation of R2 Scores: \", scores.std())\n",
    "    print(\"\\n\")"
   ]
  },
  {
   "cell_type": "markdown",
   "id": "9c1b59ce",
   "metadata": {},
   "source": [
    "Conclusion: Base SVR is overfitting. Hypertuned SVR performing well."
   ]
  }
 ],
 "metadata": {
  "kernelspec": {
   "display_name": "Python 3 (ipykernel)",
   "language": "python",
   "name": "python3"
  },
  "language_info": {
   "codemirror_mode": {
    "name": "ipython",
    "version": 3
   },
   "file_extension": ".py",
   "mimetype": "text/x-python",
   "name": "python",
   "nbconvert_exporter": "python",
   "pygments_lexer": "ipython3",
   "version": "3.9.7"
  }
 },
 "nbformat": 4,
 "nbformat_minor": 5
}
